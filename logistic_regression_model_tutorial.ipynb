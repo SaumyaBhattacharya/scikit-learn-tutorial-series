{
 "cells": [
  {
   "cell_type": "markdown",
   "id": "faec9f64",
   "metadata": {},
   "source": [
    "# Logistic Regression Model"
   ]
  },
  {
   "cell_type": "code",
   "execution_count": 1,
   "id": "f4d72740",
   "metadata": {},
   "outputs": [],
   "source": [
    "import numpy as np\n",
    "import pandas as pd\n",
    "import matplotlib.pyplot as plt\n",
    "from sklearn.linear_model import LogisticRegression"
   ]
  },
  {
   "cell_type": "markdown",
   "id": "b2a3145a",
   "metadata": {},
   "source": [
    "### Data preparation "
   ]
  },
  {
   "cell_type": "code",
   "execution_count": 2,
   "id": "843ed8b4",
   "metadata": {},
   "outputs": [
    {
     "name": "stdout",
     "output_type": "stream",
     "text": [
      "    no_of_special_chs  is_spam\n",
      "0                   2        0\n",
      "1                  32        1\n",
      "2                  34        1\n",
      "3                  51        1\n",
      "4                  41        1\n",
      "5                   1        0\n",
      "6                   0        0\n",
      "7                 100        1\n",
      "8                  65        1\n",
      "9                  31        1\n",
      "10                 53        1\n",
      "11                 17        0\n",
      "12                  3        0\n",
      "13                  7        0\n",
      "14                 33        1\n",
      "15                  4        0\n",
      "16                 31        1\n",
      "17                  9        0\n",
      "18                 12        0\n",
      "19                 80        1\n"
     ]
    }
   ],
   "source": [
    "spam_email_df = pd.read_csv('G:\\Youtube\\SKLearn\\example_dataset\\email_spam.csv')\n",
    "\n",
    "print(spam_email_df)\n",
    "\n",
    "spam_email_df_train = spam_email_df.head(15)\n",
    "spam_email_df_test = spam_email_df.tail(5)"
   ]
  },
  {
   "cell_type": "markdown",
   "id": "498a11c6",
   "metadata": {},
   "source": [
    "### Plot the Data Points"
   ]
  },
  {
   "cell_type": "code",
   "execution_count": 4,
   "id": "071bf61e",
   "metadata": {
    "scrolled": true
   },
   "outputs": [
    {
     "data": {
      "image/png": "[encoded data removed]",
      "text/plain": [
       "<Figure size 400x300 with 1 Axes>"
      ]
     },
     "metadata": {},
     "output_type": "display_data"
    }
   ],
   "source": [
    "plt.scatter(spam_email_df_train['no_of_special_chs'],spam_email_df_train['is_spam'])\n",
    "plt.xlabel('no_of_special_chs')\n",
    "plt.ylabel('is_spam')\n",
    "plt.rcParams['figure.figsize'] = (4, 3)\n",
    "plt.show()"
   ]
  },
  {
   "cell_type": "markdown",
   "id": "267f7876",
   "metadata": {},
   "source": [
    "### Create Logistic Regression Model"
   ]
  },
  {
   "cell_type": "code",
   "execution_count": 5,
   "id": "04c76cbd",
   "metadata": {},
   "outputs": [],
   "source": [
    "logistic_reg_model = LogisticRegression()"
   ]
  },
  {
   "cell_type": "markdown",
   "id": "28461289",
   "metadata": {},
   "source": [
    "### Train the Model"
   ]
  },
  {
   "cell_type": "code",
   "execution_count": 6,
   "id": "f06a2d6d",
   "metadata": {},
   "outputs": [
    {
     "data": {
      "text/plain": [
       "LogisticRegression()"
      ]
     },
     "execution_count": 6,
     "metadata": {},
     "output_type": "execute_result"
    }
   ],
   "source": [
    "logistic_reg_model.fit(spam_email_df_train[['no_of_special_chs']],spam_email_df_train['is_spam'])"
   ]
  },
  {
   "cell_type": "markdown",
   "id": "25e33045",
   "metadata": {},
   "source": [
    "### Prediction with Trained Model"
   ]
  },
  {
   "cell_type": "code",
   "execution_count": 7,
   "id": "b3303b3b",
   "metadata": {},
   "outputs": [
    {
     "name": "stdout",
     "output_type": "stream",
     "text": [
      "    no_of_special_chs\n",
      "15                  4\n",
      "16                 31\n",
      "17                  9\n",
      "18                 12\n",
      "19                 80\n"
     ]
    }
   ],
   "source": [
    "print(spam_email_df_test[['no_of_special_chs']])"
   ]
  },
  {
   "cell_type": "code",
   "execution_count": 8,
   "id": "5bf1e455",
   "metadata": {},
   "outputs": [
    {
     "name": "stdout",
     "output_type": "stream",
     "text": [
      "[0 1 0 0 1]\n"
     ]
    }
   ],
   "source": [
    "is_spam = logistic_reg_model.predict(spam_email_df_test[['no_of_special_chs']])\n",
    "print(is_spam)"
   ]
  },
  {
   "cell_type": "code",
   "execution_count": 9,
   "id": "4cc89dec",
   "metadata": {},
   "outputs": [
    {
     "name": "stdout",
     "output_type": "stream",
     "text": [
      "[[9.99962609e-01 3.73910251e-05]\n",
      " [1.63819021e-02 9.83618098e-01]\n",
      " [9.99473068e-01 5.26931841e-04]\n",
      " [9.97427328e-01 2.57267219e-03]\n",
      " [9.10382880e-14 1.00000000e+00]]\n"
     ]
    }
   ],
   "source": [
    "probabilities = logistic_reg_model.predict_proba(spam_email_df_test[['no_of_special_chs']])\n",
    "print(probabilities)\n"
   ]
  },
  {
   "cell_type": "markdown",
   "id": "60821840",
   "metadata": {},
   "source": [
    "### Check Accuracy of the prediction"
   ]
  },
  {
   "cell_type": "code",
   "execution_count": 10,
   "id": "c93b21b8",
   "metadata": {},
   "outputs": [
    {
     "name": "stdout",
     "output_type": "stream",
     "text": [
      "1.0\n"
     ]
    }
   ],
   "source": [
    "score = logistic_reg_model.score(spam_email_df_test[['no_of_special_chs']],spam_email_df_test['is_spam'])\n",
    "print(score)"
   ]
  },
  {
   "cell_type": "code",
   "execution_count": null,
   "id": "e371386b",
   "metadata": {},
   "outputs": [],
   "source": []
  }
 ],
 "metadata": {
  "kernelspec": {
   "display_name": "Python 3 (ipykernel)",
   "language": "python",
   "name": "python3"
  },
  "language_info": {
   "codemirror_mode": {
    "name": "ipython",
    "version": 3
   },
   "file_extension": ".py",
   "mimetype": "text/x-python",
   "name": "python",
   "nbconvert_exporter": "python",
   "pygments_lexer": "ipython3",
   "version": "3.9.13"
  }
 },
 "nbformat": 4,
 "nbformat_minor": 5
}
